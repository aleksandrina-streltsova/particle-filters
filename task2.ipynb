{
 "cells": [
  {
   "metadata": {},
   "cell_type": "code",
   "outputs": [],
   "execution_count": null,
   "source": [
    "import numpy as np\n",
    "import matplotlib.pyplot as plt\n",
    "import pandas as pd\n",
    "\n",
    "from nonlinear import initial_distribution, transition_model, observation_model\n",
    "from filters import ensemble_kf, bootstrap_pf"
   ],
   "id": "e4860fb7be743a33"
  },
  {
   "metadata": {},
   "cell_type": "markdown",
   "source": [
    "### 2.b\n",
    "#### b.1"
   ],
   "id": "e0fb8d8b5782b70c"
  },
  {
   "metadata": {},
   "cell_type": "code",
   "outputs": [],
   "execution_count": null,
   "source": [
    "# Data\n",
    "n_steps = 500\n",
    "\n",
    "\n",
    "# conditional distribution ~ N(phi * u, sigma^2)\n",
    "phi = 0.98\n",
    "sigma2 = 0.16\n",
    "\n",
    "# observation noise ~ N(0, beta^2 * exp(u))\n",
    "beta2 = 0.7\n",
    "\n",
    "# dynamical system parameters\n",
    "p0 = initial_distribution(sigma2)\n",
    "p = transition_model(phi, sigma2)\n",
    "nu = observation_model(beta2)"
   ],
   "id": "c2c62ed42ae41edc"
  },
  {
   "metadata": {},
   "cell_type": "code",
   "outputs": [],
   "execution_count": null,
   "source": [
    "np.random.seed(566)\n",
    "y = pd.read_csv('synthetic_data.csv')['y'].array"
   ],
   "id": "195d78685de603fd"
  },
  {
   "metadata": {},
   "cell_type": "code",
   "outputs": [],
   "execution_count": null,
   "source": "ns = [2 ** j for j in range(6, 12)]  # values of number of particles to try",
   "id": "b3facbe23f4b4d98"
  },
  {
   "metadata": {},
   "cell_type": "code",
   "outputs": [],
   "execution_count": null,
   "source": [
    "mean_en = []\n",
    "std_en = []\n",
    "\n",
    "for n_particles in ns:\n",
    "    u_en = ensemble_kf(y, n_particles, p0, p, nu)\n",
    "\n",
    "    mean_en.append(np.mean(u_en, axis=1))\n",
    "    std_en.append(u_en.std(axis=1))"
   ],
   "id": "3c0fb02e2b4d60fd"
  },
  {
   "metadata": {},
   "cell_type": "code",
   "outputs": [],
   "execution_count": null,
   "source": [
    "mse_bs = []\n",
    "mean_bs = []\n",
    "std_bs = []\n",
    "ess_bs = []\n",
    "ess_bs_no_resampling = []\n",
    "\n",
    "for n_particles in ns:\n",
    "    u_bs, w_bs, ess = bootstrap_pf(y, n_particles, p0, p, nu)\n",
    "\n",
    "    mean = (w_bs * u_bs).sum(axis=1)\n",
    "    std = (w_bs * (u_bs - mean[:, np.newaxis]) ** 2).sum(axis=1) ** 0.5\n",
    "\n",
    "    mean_bs.append(mean)\n",
    "    std_bs.append(std)\n",
    "    ess_bs.append(ess)\n",
    "\n",
    "    _, _, ess_no_resampling = bootstrap_pf(y, n_particles, p0, p, nu, no_resampling=True)\n",
    "    ess_bs_no_resampling.append(ess_no_resampling)"
   ],
   "id": "29b041f5a7007a3a"
  },
  {
   "metadata": {},
   "cell_type": "code",
   "outputs": [],
   "execution_count": null,
   "source": [
    "for i in [0, len(ns) - 1]:\n",
    "    for xlim_left, xlim_right in [[0, n_steps // 10], [0, n_steps]]:\n",
    "        plt.figure(figsize=(24, 8))\n",
    "\n",
    "        plt.plot(mean_en[i], 'c', label=f'Ensemble Kalman filter, N = {ns[i]}', linewidth=1)\n",
    "        plt.plot((mean_en[i] - std_en[i]), 'c:', linewidth=1)\n",
    "        plt.plot((mean_en[i] + std_en[i]), 'c:', linewidth=1)\n",
    "\n",
    "        plt.plot(mean_bs[i], 'm', label=f'Bootstrap particle filter, N = {ns[i]}', linewidth=1)\n",
    "        plt.plot((mean_bs[i] - std_bs[i]), 'm:', linewidth=1)\n",
    "        plt.plot((mean_bs[i] + std_bs[i]), 'm:', linewidth=1)\n",
    "\n",
    "        plt.xlabel('step')\n",
    "        plt.ylabel('system state')\n",
    "        plt.title(f'Estimated trajectory for steps in [{xlim_left}, {xlim_right}]')\n",
    "        plt.xlim(xlim_left, xlim_right)\n",
    "        plt.legend(loc='upper left')\n",
    "        plt.show()"
   ],
   "id": "8d693f3b362397b7"
  },
  {
   "metadata": {},
   "cell_type": "markdown",
   "source": "#### b.2",
   "id": "b32d1ce60d89e5ed"
  },
  {
   "metadata": {},
   "cell_type": "code",
   "outputs": [],
   "execution_count": null,
   "source": [
    "n_particles = ns[0]\n",
    "n_candidates = 21\n",
    "n_estimates = 10\n",
    "\n",
    "log_ls = np.zeros((n_candidates, n_estimates))\n",
    "phi_candidates = np.linspace(0, 1, n_candidates)\n",
    "\n",
    "for i in range(n_candidates):\n",
    "    p_candidate = transition_model(phi_candidates[i], sigma2)\n",
    "\n",
    "    for j in range(n_estimates):\n",
    "        u_bs, _, _ = bootstrap_pf(y, n_particles, p0, p_candidate, nu)\n",
    "        prob_y = nu(u_bs).pdf(y[:, np.newaxis]).mean(axis=1)\n",
    "        log_ls[i, j] = np.sum(np.log(prob_y))"
   ],
   "id": "20688aa3acff6da2"
  },
  {
   "metadata": {},
   "cell_type": "code",
   "outputs": [],
   "execution_count": null,
   "source": [
    "plt.figure(figsize=(12, 8))\n",
    "plt.boxplot(log_ls.T, positions=phi_candidates, widths=0.05)\n",
    "plt.xticks(phi_candidates, [f\"{x:.2f}\" for x in phi_candidates])\n",
    "plt.xlim(-0.1, 1.1)\n",
    "plt.show()"
   ],
   "id": "10c4e34d3c624e1f"
  }
 ],
 "metadata": {},
 "nbformat": 5,
 "nbformat_minor": 9
}
