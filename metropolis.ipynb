{
 "cells": [
  {
   "metadata": {},
   "cell_type": "code",
   "outputs": [],
   "execution_count": null,
   "source": [
    "import numpy as np\n",
    "import matplotlib.pyplot as plt\n",
    "import pandas as pd\n",
    "import scipy.stats as stats\n",
    "\n",
    "from nonlinear import initial_distribution, transition_model, observation_model\n",
    "from filters import ensemble_kf, bootstrap_pf, log_likelihood, sample_trajectory"
   ],
   "id": "df78d3ce36a58c34"
  },
  {
   "metadata": {},
   "cell_type": "code",
   "outputs": [],
   "execution_count": null,
   "source": [
    "def particle_metropolis_hastings(y, n_iters, n_particles, p_theta, q, init_dist, tr_model, obs_model):\n",
    "    uniform_rvs = stats.uniform.rvs(size=n_iters)\n",
    "\n",
    "    theta0 = p_theta.rvs()\n",
    "    theta = np.zeros((n_iters + 1, len(theta0)))\n",
    "    theta[0] = theta0\n",
    "\n",
    "    log_ls = np.zeros((n_iters + 1,))\n",
    "\n",
    "    for k in range(n_iters + 1):\n",
    "        if k == 0:\n",
    "            theta_candidate = theta0\n",
    "        else:\n",
    "            theta_candidate = q(theta[k - 1]).rvs()\n",
    "\n",
    "        p0 = init_dist(theta_candidate)\n",
    "        p = tr_model(theta_candidate)\n",
    "        nu = obs_model(theta_candidate)\n",
    "\n",
    "        u, _, _ = bootstrap_pf(y, n_particles, p0, p, nu)\n",
    "\n",
    "        prob_y = nu(u).pdf(y[:, np.newaxis]).mean(axis=1)\n",
    "        log_l = np.sum(np.log(prob_y))\n",
    "\n",
    "        if k == 0:\n",
    "            log_ls[0] = log_l\n",
    "            continue\n",
    "\n",
    "        alpha = (\n",
    "                 p_theta.pdf(theta_candidate) / p_theta.pdf(theta[k - 1]) *\n",
    "                 np.exp(log_l - log_ls[k - 1]) *\n",
    "                 q(theta_candidate).pdf(theta[k - 1]) / q(theta[k - 1]).pdf(theta_candidate)\n",
    "        ).prod()\n",
    "        alpha = min(1, alpha)\n",
    "\n",
    "        if uniform_rvs[k - 1] < alpha:\n",
    "            theta[k] = theta_candidate\n",
    "            log_ls[k] = log_l\n",
    "        else:\n",
    "            theta[k] = theta[k - 1]\n",
    "            log_ls[k] = log_ls[k - 1]\n",
    "        print(theta[k])\n",
    "    return theta"
   ],
   "id": "681ee65294ae2fe3"
  },
  {
   "metadata": {},
   "cell_type": "code",
   "outputs": [],
   "execution_count": null,
   "source": [
    "n_iters = 100\n",
    "n_particles = 2 ** 6\n",
    "p_theta = stats.uniform([0.1, 0.6], [0.2, 0.2]) # stats.invgamma([3, 3], scale=[0.5, 0.5])\n",
    "q = lambda th: stats.truncnorm(-th/0.1, np.inf, loc=th, scale=0.1)\n",
    "init_dist = lambda th: initial_distribution(phi, th[0])\n",
    "tr_model = lambda th: transition_model(phi, th[0])\n",
    "obs_model = lambda th: observation_model(th[1])\n",
    "\n",
    "theta = particle_metropolis_hastings(y, n_iters, n_particles, p_theta, q, init_dist, tr_model, obs_model)"
   ],
   "id": "a017bbb41967a74c"
  },
  {
   "metadata": {},
   "cell_type": "code",
   "outputs": [],
   "execution_count": null,
   "source": [
    "plt.scatter(np.arange(n_iters + 1), theta[:, 0], linewidth=1)\n",
    "plt.scatter(np.arange(n_iters + 1), theta[:, 1], linewidth=1)\n",
    "plt.show()"
   ],
   "id": "9cecb5f506f0902"
  }
 ],
 "metadata": {},
 "nbformat": 5,
 "nbformat_minor": 9
}
